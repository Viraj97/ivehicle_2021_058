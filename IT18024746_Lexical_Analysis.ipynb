{
 "cells": [
  {
   "cell_type": "code",
   "execution_count": 31,
   "id": "22aef39b",
   "metadata": {},
   "outputs": [],
   "source": [
    "from nltk.tokenize import sent_tokenize\n",
    "from nltk.tokenize import word_tokenize\n",
    "from nltk.corpus import stopwords\n",
    "from sklearn.preprocessing import LabelEncoder\n",
    "from nltk import pos_tag\n",
    "from nltk.stem import PorterStemmer\n",
    "from nltk.corpus import wordnet\n",
    "import pandas as pd\n",
    "from sklearn import svm\n",
    "from matplotlib import pyplot as plt"
   ]
  },
  {
   "cell_type": "code",
   "execution_count": 4,
   "id": "09d2faf1",
   "metadata": {},
   "outputs": [
    {
     "name": "stdout",
     "output_type": "stream",
     "text": [
      "Enter Your Search Here: Hello, I want to buy a black toyota corolla car\n",
      "['Hello, I want to buy a black toyota corolla car']\n"
     ]
    }
   ],
   "source": [
    "text=input(\"Enter Your Search Here: \")\n",
    "tokenized_text=sent_tokenize(text)\n",
    "print(tokenized_text)"
   ]
  },
  {
   "cell_type": "code",
   "execution_count": 5,
   "id": "09cf74da",
   "metadata": {},
   "outputs": [
    {
     "name": "stdout",
     "output_type": "stream",
     "text": [
      "['Hello', ',', 'I', 'want', 'to', 'buy', 'a', 'black', 'toyota', 'corolla', 'car']\n"
     ]
    }
   ],
   "source": [
    "tokenized_text=word_tokenize(text)\n",
    "print(tokenized_text)"
   ]
  },
  {
   "cell_type": "code",
   "execution_count": 8,
   "id": "082f8721",
   "metadata": {},
   "outputs": [
    {
     "name": "stdout",
     "output_type": "stream",
     "text": [
      "[('Hello', 'NNP'), (',', ','), ('I', 'PRP'), ('want', 'VBP'), ('to', 'TO'), ('buy', 'VB'), ('a', 'DT'), ('black', 'JJ'), ('toyota', 'NN'), ('corolla', 'NN'), ('car', 'NN')]\n"
     ]
    }
   ],
   "source": [
    "s = word_tokenize(text)\n",
    "print(pos_tag(s))"
   ]
  },
  {
   "cell_type": "code",
   "execution_count": 60,
   "id": "a7c007f1",
   "metadata": {},
   "outputs": [
    {
     "data": {
      "text/html": [
       "<div>\n",
       "<style scoped>\n",
       "    .dataframe tbody tr th:only-of-type {\n",
       "        vertical-align: middle;\n",
       "    }\n",
       "\n",
       "    .dataframe tbody tr th {\n",
       "        vertical-align: top;\n",
       "    }\n",
       "\n",
       "    .dataframe thead th {\n",
       "        text-align: right;\n",
       "    }\n",
       "</style>\n",
       "<table border=\"1\" class=\"dataframe\">\n",
       "  <thead>\n",
       "    <tr style=\"text-align: right;\">\n",
       "      <th></th>\n",
       "      <th>No</th>\n",
       "      <th>Sentence</th>\n",
       "      <th>Buy/Sell</th>\n",
       "      <th>Condition</th>\n",
       "      <th>Brand</th>\n",
       "      <th>Model</th>\n",
       "      <th>Type</th>\n",
       "      <th>Color</th>\n",
       "      <th>Year</th>\n",
       "    </tr>\n",
       "  </thead>\n",
       "  <tbody>\n",
       "    <tr>\n",
       "      <th>0</th>\n",
       "      <td>1</td>\n",
       "      <td>I want to buy brandnew toyota corolla black ca...</td>\n",
       "      <td>buy</td>\n",
       "      <td>brandnew</td>\n",
       "      <td>toyota</td>\n",
       "      <td>corolla</td>\n",
       "      <td>car</td>\n",
       "      <td>black</td>\n",
       "      <td>2008</td>\n",
       "    </tr>\n",
       "    <tr>\n",
       "      <th>1</th>\n",
       "      <td>2</td>\n",
       "      <td>I want to buy brandnew bmw x1 white suv which ...</td>\n",
       "      <td>buy</td>\n",
       "      <td>brandnew</td>\n",
       "      <td>bmw</td>\n",
       "      <td>x1</td>\n",
       "      <td>suv</td>\n",
       "      <td>white</td>\n",
       "      <td>2007</td>\n",
       "    </tr>\n",
       "    <tr>\n",
       "      <th>2</th>\n",
       "      <td>3</td>\n",
       "      <td>I want to buy recondition benz c200 green car ...</td>\n",
       "      <td>buy</td>\n",
       "      <td>recondition</td>\n",
       "      <td>benz</td>\n",
       "      <td>c200</td>\n",
       "      <td>car</td>\n",
       "      <td>green</td>\n",
       "      <td>2017</td>\n",
       "    </tr>\n",
       "    <tr>\n",
       "      <th>3</th>\n",
       "      <td>4</td>\n",
       "      <td>I want to buy brandnew audi a1 ash car which m...</td>\n",
       "      <td>buy</td>\n",
       "      <td>brandnew</td>\n",
       "      <td>audi</td>\n",
       "      <td>a1</td>\n",
       "      <td>car</td>\n",
       "      <td>ash</td>\n",
       "      <td>2007</td>\n",
       "    </tr>\n",
       "    <tr>\n",
       "      <th>4</th>\n",
       "      <td>5</td>\n",
       "      <td>I want to sell brandnew bmw x3 black suv which...</td>\n",
       "      <td>sell</td>\n",
       "      <td>brandnew</td>\n",
       "      <td>bmw</td>\n",
       "      <td>x3</td>\n",
       "      <td>suv</td>\n",
       "      <td>black</td>\n",
       "      <td>2007</td>\n",
       "    </tr>\n",
       "  </tbody>\n",
       "</table>\n",
       "</div>"
      ],
      "text/plain": [
       "   No                                           Sentence Buy/Sell  \\\n",
       "0   1  I want to buy brandnew toyota corolla black ca...      buy   \n",
       "1   2  I want to buy brandnew bmw x1 white suv which ...      buy   \n",
       "2   3  I want to buy recondition benz c200 green car ...      buy   \n",
       "3   4  I want to buy brandnew audi a1 ash car which m...      buy   \n",
       "4   5  I want to sell brandnew bmw x3 black suv which...     sell   \n",
       "\n",
       "     Condition   Brand    Model Type  Color  Year  \n",
       "0     brandnew  toyota  corolla  car  black  2008  \n",
       "1     brandnew     bmw       x1  suv  white  2007  \n",
       "2  recondition    benz     c200  car  green  2017  \n",
       "3     brandnew    audi       a1  car    ash  2007  \n",
       "4     brandnew     bmw       x3  suv  black  2007  "
      ]
     },
     "execution_count": 60,
     "metadata": {},
     "output_type": "execute_result"
    }
   ],
   "source": [
    "df=pd.read_csv('sem.csv')\n",
    "df.head()"
   ]
  },
  {
   "cell_type": "code",
   "execution_count": 62,
   "id": "c205d8a1",
   "metadata": {},
   "outputs": [
    {
     "name": "stdout",
     "output_type": "stream",
     "text": [
      "<class 'pandas.core.frame.DataFrame'>\n",
      "RangeIndex: 500 entries, 0 to 499\n",
      "Data columns (total 9 columns):\n",
      " #   Column     Non-Null Count  Dtype \n",
      "---  ------     --------------  ----- \n",
      " 0   No         500 non-null    int64 \n",
      " 1   Sentence   500 non-null    object\n",
      " 2   Buy/Sell   500 non-null    object\n",
      " 3   Condition  500 non-null    object\n",
      " 4   Brand      500 non-null    object\n",
      " 5   Model      500 non-null    object\n",
      " 6   Type       500 non-null    object\n",
      " 7   Color      500 non-null    object\n",
      " 8   Year       500 non-null    int64 \n",
      "dtypes: int64(2), object(7)\n",
      "memory usage: 35.3+ KB\n"
     ]
    }
   ],
   "source": [
    "df.info()"
   ]
  },
  {
   "cell_type": "code",
   "execution_count": 63,
   "id": "a458b678",
   "metadata": {},
   "outputs": [
    {
     "name": "stdout",
     "output_type": "stream",
     "text": [
      "Sentence => ['I want to buy brandnew toyota corolla black car which made in 2008'\n",
      " 'I want to buy brandnew bmw x1 white suv which made in 2007'\n",
      " 'I want to buy recondition benz c200 green car which made in 2017'\n",
      " 'I want to buy brandnew audi a1 ash car which made in 2007'\n",
      " 'I want to sell brandnew bmw x3 black suv which made in 2007'\n",
      " 'I want to buy recondition bmw x2 red suv which made in 2007'\n",
      " 'I want to sell recondition toyota allion white car which made in 2007'\n",
      " 'I want to sell brandnew benz c180 ash car which made in 2014'\n",
      " 'I want to buy brandnew audi a3 black car which made in 2007'\n",
      " 'I want to buy brandnew toyota yaris red carb which made in 2018'\n",
      " 'I want to sell brandnew audi a1 green car which made in 2007'\n",
      " 'I want to sell recondition benz c180 black car which made in 2012'\n",
      " 'I want to buy brandnew benz c200 white car which made in 2007'\n",
      " 'I want to buy recondition audi a3 green car which made in 2008'\n",
      " 'I want to sell recondition toyota corolla red car which made in 2008'\n",
      " 'I want to buy brandnew benz c180 ash car which made in 2012'\n",
      " 'I want to sell brandnew bmw x3 black suv which made in 2014'\n",
      " 'I want to buy recondition audi a3 white car which made in 2007'\n",
      " 'I want to sell brandnew toyota yaris red car which made in 2008'\n",
      " 'I want to buy brandnew toyota KDH black car which made in 2008'\n",
      " 'I want to buy recondition benz c200 green car which made in 2018'\n",
      " 'I want to buy brandnew audi a1 ash car which made in 2020'\n",
      " 'I want to sell brandnew benz c180 ash car which made in 2018'\n",
      " 'I want to buy brandnew toyota yaris red carb which made in 2019'\n",
      " 'I want to buy recondition benz c180 black car which made in 2018'\n",
      " 'I want to buy recondition audi a3 green car which made in 2011'\n",
      " 'I want to sell recondition toyota corolla red car which made in 2009'\n",
      " 'I want to buy brandnew benz c180 ash car which made in 2008'\n",
      " 'I want to sell brandnew bmw x3 black suv which made in 2008'\n",
      " 'I want to buy recondition audi a3 white car which made in 2017'\n",
      " 'I want to buy brandnew toyota corolla black car which made in 2012'\n",
      " 'I want to buy recondition benz c200 green car which made in 2008'\n",
      " 'I want to buy brandnew audi a1 ash car which made in 2013'\n",
      " 'I want to sell brandnew benz c180 ash car which made in 2021'\n",
      " 'I want to buy recondition audi a3 black car which made in 2012 '\n",
      " 'I want to buy brandnew toyota yaris red carb which made in 2008'\n",
      " 'I want to sell brandnew audi a1 green car which made in 2014'\n",
      " 'I want to buy recondition benz c180 black car which made in 2008'\n",
      " 'I want to buy brandnew benz c200 white car which made in 2016'\n",
      " 'I want to sell brandnew bmw x1 white suv which made in 2020'\n",
      " 'I want to buy brandnew audi a1 ash car which made in 2021'\n",
      " 'I want to sell brandnew bmw x3 black suv which made in 2017'\n",
      " 'I want to buy recondition bmw x2 red suv which made in 2019'\n",
      " 'I want to sell recondition toyota allion white car which made in 2019'\n",
      " 'I want to sell brandnew benz c180 ash car which made in 2008'\n",
      " 'I want to buy brandnew bmw x1 white suv which made in 2015'\n",
      " 'I want to buy brandnew benz c180 ash car which made in 2016'\n",
      " 'I want to buy recondition audi a3 white car which made in 2015'\n",
      " 'I want to buy brandnew toyota corolla black car which made in 2020'\n",
      " 'I want to buy brandnew bmw x1 white suv which made in 2009'\n",
      " 'I want to buy recondition benz c200 green car which made in 2010'\n",
      " 'I want to buy brandnew audi a1 ash car which made in 2010'\n",
      " 'I want to sell brandnew bmw x3 black suv which made in 2011'\n",
      " 'I want to buy recondition bmw x2 red suv which made in 2013'\n",
      " 'I want to sell recondition toyota allion white car which made in 2015'\n",
      " 'I want to sell brandnew benz c180 ash car which made in 2010'\n",
      " 'I want to buy brandnew audi a3 black car which made in 2011'\n",
      " 'I want to buy recondition audi a3 white car which made in 2014'\n",
      " 'I want to buy brandnew bmw x1 white suv which made in 2019'\n",
      " 'I want to sell brandnew bmw x3 black suv which made in 2010'\n",
      " 'I want to buy recondition bmw x2 red suv which made in 2011'\n",
      " 'I want to buy brandnew toyota yaris red carb which made in 2010'\n",
      " 'I want to buy recondition benz c180 black car which made in 2010'\n",
      " 'I want to buy recondition bmw x2 red suv which made in 2020'\n",
      " 'I want to sell recondition toyota allion white car which made in 2013'\n",
      " 'I want to buy brandnew bmw x1 white suv which made in 2018'\n",
      " 'I want to buy brandnew audi a3 black car which made in 2009'\n",
      " 'I want to buy recondition benz c180 black car which made in 2011'\n",
      " 'I want to sell recondition toyota corolla red car which made in 2019'\n",
      " 'I want to buy brandnew audi a1 ash car which made in 2017'\n",
      " 'I want to buy brandnew toyota yaris red carb which made in 2009'\n",
      " 'I want to buy recondition benz c180 black car which made in 2009'\n",
      " 'I want to sell brandnew bmw x3 black suv which made in 2016'\n",
      " 'I want to buy recondition bmw x2 red suv which made in 2016'\n",
      " 'I want to buy brandnew audi a3 black car which made in 2019'\n",
      " 'I want to buy brandnew benz c200 white car which made in 2020'\n",
      " 'I want to buy recondition audi a3 white car which made in 2010'\n",
      " 'I want to buy brandnew audi a1 ash car which made in 2015'\n",
      " 'I want to buy brandnew bmw x1 white suv which made in 2010'\n",
      " 'I want to buy brandnew audi a3 black car which made in 2010'\n",
      " 'I want to sell brandnew audi a1 green car which made in 2017'\n",
      " 'I want to buy brandnew benz c200 white car which made in 2018'\n",
      " 'I want to buy recondition audi a3 white car which made in 2020'\n",
      " 'I want to buy brandnew audi a1 ash car which made in 2012'\n",
      " 'I want to sell brandnew bmw x3 black suv which made in 2012'\n",
      " 'I want to buy recondition bmw x2 red suv which made in 2012'\n",
      " 'I want to sell recondition toyota allion white car which made in 2012'\n",
      " 'I want to buy brandnew audi a3 black car which made in 2015'\n",
      " 'I want to sell brandnew audi a1 green car which made in 2013'\n",
      " 'I want to buy brandnew benz c200 white car which made in 2013'\n",
      " 'I want to buy recondition audi a3 white car which made in 2011'\n",
      " 'I want to buy brandnew bmw x1 white suv which made in 2011'\n",
      " 'I want to sell brandnew bmw x3 black suv which made in 2009'\n",
      " 'I want to buy recondition bmw x2 red suv which made in 2009'\n",
      " 'I want to sell recondition toyota allion white car which made in 2011'\n",
      " 'I want to buy brandnew audi a3 black car which made in 2008'\n",
      " 'I want to sell recondition toyota allion white car which made in 2014'\n",
      " 'I want to buy brandnew benz c200 white car which made in 2017'\n",
      " 'I want to buy recondition bmw x2 red suv which made in 2015'\n",
      " 'I want to sell recondition toyota allion white car which made in 2009'\n",
      " 'I want to sell brandnew audi a1 green car which made in 2019'\n",
      " 'I want to buy brandnew benz c200 white car which made in 2009'\n",
      " 'I want to buy brandnew bmw x1 white suv which made in 2014'\n",
      " 'I want to buy brandnew audi a1 ash car which made in 2014'\n",
      " 'I want to sell brandnew bmw x3 black suv which made in 2013'\n",
      " 'I want to sell recondition toyota allion white car which made in 2016'\n",
      " 'I want to buy brandnew bmw x1 white suv which made in 2008'\n",
      " 'I want to buy brandnew audi a3 black car which made in 2018'\n",
      " 'I want to sell brandnew audi a1 green car which made in 2020'\n",
      " 'I want to buy recondition audi a3 white car which made in 2012'\n",
      " 'I want to buy brandnew bmw x1 white suv which made in 2016'\n",
      " 'I want to buy brandnew audi a1 ash car which made in 2018'\n",
      " 'I want to sell brandnew bmw x3 black suv which made in 2018'\n",
      " 'I want to buy brandnew benz c200 white car which made in 2019'\n",
      " 'I want to buy brandnew audi a1 ash car which made in 2019'\n",
      " 'I want to buy brandnew audi a3 black car which made in 2014'\n",
      " 'I want to sell brandnew benz c200 white car which made in 2007'\n",
      " 'I want to sell recondition audi a3 green car which made in 2008'\n",
      " 'I want to buy recondition bmw x2 red suv which made in 2018'\n",
      " 'I want to buy recondition audi a3 black car which made in 2011'\n",
      " 'I want to sell brandnew audi a1 green car which made in 2011'\n",
      " 'I want to buy brandnew benz c200 white car which made in 2015'\n",
      " 'I want to buy recondition audi a3 white car which made in 2018'\n",
      " 'I want to buy brandnew bmw x1 white suv which made in 2020'\n",
      " 'I want to buy recondition audi a3 white car which made in 2009'\n",
      " 'I want to sell brandnew bmw x1 white suv which made in 2007'\n",
      " 'I want to sell recondition toyota allion white car which made in 2017'\n",
      " 'I want to buy brandnew bmw x1 white suv which made in 2017'\n",
      " 'I want to buy recondition benz c200 green car which made in 2016'\n",
      " 'I want to sell brandnew benz c180 ash car which made in 2013'\n",
      " 'I want to buy brandnew toyota yaris red car which made in 2016'\n",
      " 'I want to buy recondition audi a3 green car which made in 2019'\n",
      " 'I want to sell recondition toyota corolla red car which made in 2014'\n",
      " 'I want to buy brandnew benz c180 ash car which made in 2019'\n",
      " 'I want to sell brandnew bmw x3 black suv which made in 2020'\n",
      " 'I want to sell brandnew toyota yaris red car which made in 2018'\n",
      " 'I want to buy brandnew toyota yaris red car which made in 2013'\n",
      " 'I want to sell recondition benz c180 black car which made in 2016'\n",
      " 'I want to sell recondition toyota KDH blue car which made in 2019'\n",
      " 'I want to buy brandnew audi a3 white car which made in 2007'\n",
      " 'I want to sell brandnew toyota yaris red car which made in 2009']\n",
      "Buy/Sell => ['buy' 'sell']\n",
      "Condition => ['brandnew' 'recondition']\n",
      "Brand => ['toyota' 'bmw' 'benz' 'audi']\n",
      "Model => ['corolla' 'x1' 'c200' 'a1' 'x3' 'x2' 'allion' 'c180' 'a3' 'yaris' 'KDH']\n",
      "Type => ['car' 'suv' 'van']\n",
      "Color => ['black' 'white' 'green' 'ash' 'red' 'blue']\n"
     ]
    }
   ],
   "source": [
    "categorical_col = []\n",
    "for col in df.columns:\n",
    "    if df[col].dtype == object:\n",
    "        categorical_col.append(col)\n",
    "        print(f\"{col} => {df[col].unique()}\")"
   ]
  },
  {
   "cell_type": "code",
   "execution_count": 64,
   "id": "240450ee",
   "metadata": {},
   "outputs": [
    {
     "data": {
      "text/plain": [
       "No           0\n",
       "Sentence     0\n",
       "Buy/Sell     0\n",
       "Condition    0\n",
       "Brand        0\n",
       "Model        0\n",
       "Type         0\n",
       "Color        0\n",
       "Year         0\n",
       "dtype: int64"
      ]
     },
     "execution_count": 64,
     "metadata": {},
     "output_type": "execute_result"
    }
   ],
   "source": [
    "df.isnull().sum()"
   ]
  },
  {
   "cell_type": "code",
   "execution_count": 65,
   "id": "f2341136",
   "metadata": {},
   "outputs": [],
   "source": [
    "label_encoder = LabelEncoder()\n",
    "for col in categorical_col:\n",
    "    df[col] = label_encoder.fit_transform(df[col])"
   ]
  },
  {
   "cell_type": "code",
   "execution_count": 66,
   "id": "b68fabc0",
   "metadata": {},
   "outputs": [
    {
     "data": {
      "text/html": [
       "<div>\n",
       "<style scoped>\n",
       "    .dataframe tbody tr th:only-of-type {\n",
       "        vertical-align: middle;\n",
       "    }\n",
       "\n",
       "    .dataframe tbody tr th {\n",
       "        vertical-align: top;\n",
       "    }\n",
       "\n",
       "    .dataframe thead th {\n",
       "        text-align: right;\n",
       "    }\n",
       "</style>\n",
       "<table border=\"1\" class=\"dataframe\">\n",
       "  <thead>\n",
       "    <tr style=\"text-align: right;\">\n",
       "      <th></th>\n",
       "      <th>No</th>\n",
       "      <th>Sentence</th>\n",
       "      <th>Buy/Sell</th>\n",
       "      <th>Condition</th>\n",
       "      <th>Brand</th>\n",
       "      <th>Model</th>\n",
       "      <th>Type</th>\n",
       "      <th>Color</th>\n",
       "      <th>Year</th>\n",
       "    </tr>\n",
       "  </thead>\n",
       "  <tbody>\n",
       "    <tr>\n",
       "      <th>0</th>\n",
       "      <td>1</td>\n",
       "      <td>47</td>\n",
       "      <td>0</td>\n",
       "      <td>0</td>\n",
       "      <td>3</td>\n",
       "      <td>6</td>\n",
       "      <td>0</td>\n",
       "      <td>1</td>\n",
       "      <td>2008</td>\n",
       "    </tr>\n",
       "    <tr>\n",
       "      <th>1</th>\n",
       "      <td>2</td>\n",
       "      <td>34</td>\n",
       "      <td>0</td>\n",
       "      <td>0</td>\n",
       "      <td>2</td>\n",
       "      <td>7</td>\n",
       "      <td>1</td>\n",
       "      <td>5</td>\n",
       "      <td>2007</td>\n",
       "    </tr>\n",
       "    <tr>\n",
       "      <th>2</th>\n",
       "      <td>3</td>\n",
       "      <td>80</td>\n",
       "      <td>0</td>\n",
       "      <td>1</td>\n",
       "      <td>1</td>\n",
       "      <td>5</td>\n",
       "      <td>0</td>\n",
       "      <td>3</td>\n",
       "      <td>2017</td>\n",
       "    </tr>\n",
       "    <tr>\n",
       "      <th>3</th>\n",
       "      <td>4</td>\n",
       "      <td>0</td>\n",
       "      <td>0</td>\n",
       "      <td>0</td>\n",
       "      <td>0</td>\n",
       "      <td>1</td>\n",
       "      <td>0</td>\n",
       "      <td>0</td>\n",
       "      <td>2007</td>\n",
       "    </tr>\n",
       "    <tr>\n",
       "      <th>4</th>\n",
       "      <td>5</td>\n",
       "      <td>108</td>\n",
       "      <td>1</td>\n",
       "      <td>0</td>\n",
       "      <td>2</td>\n",
       "      <td>9</td>\n",
       "      <td>1</td>\n",
       "      <td>1</td>\n",
       "      <td>2007</td>\n",
       "    </tr>\n",
       "  </tbody>\n",
       "</table>\n",
       "</div>"
      ],
      "text/plain": [
       "   No  Sentence  Buy/Sell  Condition  Brand  Model  Type  Color  Year\n",
       "0   1        47         0          0      3      6     0      1  2008\n",
       "1   2        34         0          0      2      7     1      5  2007\n",
       "2   3        80         0          1      1      5     0      3  2017\n",
       "3   4         0         0          0      0      1     0      0  2007\n",
       "4   5       108         1          0      2      9     1      1  2007"
      ]
     },
     "execution_count": 66,
     "metadata": {},
     "output_type": "execute_result"
    }
   ],
   "source": [
    "df.head()"
   ]
  },
  {
   "cell_type": "code",
   "execution_count": 130,
   "id": "b0e391a7",
   "metadata": {},
   "outputs": [],
   "source": [
    "X = df[['Buy/Sell','Condition','Brand','Model','Type','Color','Year']]"
   ]
  },
  {
   "cell_type": "code",
   "execution_count": 131,
   "id": "9f1a6eab",
   "metadata": {},
   "outputs": [],
   "source": [
    "Y = df['Sentence']"
   ]
  },
  {
   "cell_type": "code",
   "execution_count": 144,
   "id": "011287af",
   "metadata": {},
   "outputs": [],
   "source": [
    "array = df.values\n",
    "X = array[:,0:4]\n",
    "y = array[:,4]\n",
    "X_train, X_validation, Y_train, Y_validation = train_test_split(X, y, test_size=0.20)"
   ]
  },
  {
   "cell_type": "code",
   "execution_count": 145,
   "id": "6fa84371",
   "metadata": {},
   "outputs": [],
   "source": [
    "from sklearn.model_selection import train_test_split\n",
    "from sklearn.model_selection import cross_val_score\n",
    "from sklearn.model_selection import StratifiedKFold\n",
    "from sklearn.metrics import classification_report\n",
    "from sklearn.metrics import confusion_matrix\n",
    "from sklearn.metrics import accuracy_score\n",
    "from sklearn.linear_model import LogisticRegression\n",
    "from sklearn.tree import DecisionTreeClassifier\n",
    "from sklearn.neighbors import KNeighborsClassifier\n",
    "from sklearn.discriminant_analysis import LinearDiscriminantAnalysis\n",
    "from sklearn.naive_bayes import GaussianNB\n",
    "from sklearn.svm import SVC\n",
    "models = []\n",
    "models.append(('LR', LogisticRegression(solver='liblinear', multi_class='ovr')))\n",
    "models.append(('LDA', LinearDiscriminantAnalysis()))\n",
    "models.append(('KNN', KNeighborsClassifier()))\n",
    "models.append(('CART', DecisionTreeClassifier()))\n",
    "models.append(('NB', GaussianNB()))\n",
    "models.append(('SVM', SVC(gamma='auto')))"
   ]
  },
  {
   "cell_type": "code",
   "execution_count": 146,
   "id": "091f57d6",
   "metadata": {},
   "outputs": [
    {
     "name": "stdout",
     "output_type": "stream",
     "text": [
      "LR: 0.457500 (0.058149)\n",
      "LDA: 0.442500 (0.043373)\n",
      "KNN: 0.350000 (0.055902)\n",
      "CART: 0.972500 (0.020767)\n",
      "NB: 0.377500 (0.063689)\n",
      "SVM: 0.257500 (0.011456)\n"
     ]
    }
   ],
   "source": [
    "results = []\n",
    "names = []\n",
    "for name, model in models:\n",
    "\tkfold = StratifiedKFold(n_splits=10, random_state=1, shuffle=True)\n",
    "\tcv_results = cross_val_score(model, X_train, Y_train, cv=kfold, scoring='accuracy')\n",
    "\tresults.append(cv_results)\n",
    "\tnames.append(name)\n",
    "\tprint('%s: %f (%f)' % (name, cv_results.mean(), cv_results.std()))"
   ]
  },
  {
   "cell_type": "code",
   "execution_count": 147,
   "id": "a7e00ebb",
   "metadata": {},
   "outputs": [
    {
     "data": {
      "image/png": "[encoded data removed]",
      "text/plain": [
       "<Figure size 432x288 with 1 Axes>"
      ]
     },
     "metadata": {
      "needs_background": "light"
     },
     "output_type": "display_data"
    }
   ],
   "source": [
    "from matplotlib import pyplot\n",
    "pyplot.boxplot(results, labels=names)\n",
    "pyplot.title('Algorithm Comparison')\n",
    "pyplot.show()"
   ]
  },
  {
   "cell_type": "code",
   "execution_count": null,
   "id": "fbeb0178",
   "metadata": {},
   "outputs": [],
   "source": []
  }
 ],
 "metadata": {
  "kernelspec": {
   "display_name": "Python 3",
   "language": "python",
   "name": "python3"
  },
  "language_info": {
   "codemirror_mode": {
    "name": "ipython",
    "version": 3
   },
   "file_extension": ".py",
   "mimetype": "text/x-python",
   "name": "python",
   "nbconvert_exporter": "python",
   "pygments_lexer": "ipython3",
   "version": "3.8.10"
  }
 },
 "nbformat": 4,
 "nbformat_minor": 5
}
